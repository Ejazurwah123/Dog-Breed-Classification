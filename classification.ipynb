{
 "cells": [
  {
   "cell_type": "code",
   "execution_count": 1,
   "metadata": {},
   "outputs": [],
   "source": [
    "import pandas as pd\n",
    "import numpy as np\n"
   ]
  },
  {
   "cell_type": "code",
   "execution_count": 10,
   "metadata": {},
   "outputs": [
    {
     "ename": "FileNotFoundError",
     "evalue": "[Errno 2] No such file or directory: 'sample_test/'",
     "output_type": "error",
     "traceback": [
      "\u001b[0;31m---------------------------------------------------------------------------\u001b[0m",
      "\u001b[0;31mFileNotFoundError\u001b[0m                         Traceback (most recent call last)",
      "Cell \u001b[0;32mIn[10], line 5\u001b[0m\n\u001b[1;32m      2\u001b[0m \u001b[38;5;66;03m# Path to the folder containing the images\u001b[39;00m\n\u001b[1;32m      4\u001b[0m counter \u001b[38;5;241m=\u001b[39m \u001b[38;5;241m1\u001b[39m\n\u001b[0;32m----> 5\u001b[0m \u001b[38;5;28;01mfor\u001b[39;00m filename \u001b[38;5;129;01min\u001b[39;00m \u001b[43mos\u001b[49m\u001b[38;5;241;43m.\u001b[39;49m\u001b[43mlistdir\u001b[49m\u001b[43m(\u001b[49m\u001b[38;5;124;43m'\u001b[39;49m\u001b[38;5;124;43msample_test/\u001b[39;49m\u001b[38;5;124;43m'\u001b[39;49m\u001b[43m)\u001b[49m:\n\u001b[1;32m      6\u001b[0m     \u001b[38;5;28;01mif\u001b[39;00m filename\u001b[38;5;241m.\u001b[39mendswith(\u001b[38;5;124m\"\u001b[39m\u001b[38;5;124m.jpg\u001b[39m\u001b[38;5;124m\"\u001b[39m):\n\u001b[1;32m      7\u001b[0m         \u001b[38;5;66;03m# Create the new filename with leading zeros\u001b[39;00m\n\u001b[1;32m      8\u001b[0m         new_filename \u001b[38;5;241m=\u001b[39m \u001b[38;5;124mf\u001b[39m\u001b[38;5;124m\"\u001b[39m\u001b[38;5;124mtestimage-\u001b[39m\u001b[38;5;132;01m{\u001b[39;00mcounter\u001b[38;5;132;01m:\u001b[39;00m\u001b[38;5;124m02d\u001b[39m\u001b[38;5;132;01m}\u001b[39;00m\u001b[38;5;124m.jpg\u001b[39m\u001b[38;5;124m\"\u001b[39m\n",
      "\u001b[0;31mFileNotFoundError\u001b[0m: [Errno 2] No such file or directory: 'sample_test/'"
     ]
    }
   ],
   "source": [
    "import os\n",
    "# Path to the folder containing the images\n",
    "\n",
    "counter = 1\n",
    "for filename in os.listdir('sample_test/'):\n",
    "    if filename.endswith(\".jpg\"):\n",
    "        # Create the new filename with leading zeros\n",
    "        new_filename = f\"testimage-{counter:02d}.jpg\"\n",
    "        os.rename(filename, new_filename)\n",
    "        counter += 1\n",
    "\n",
    "print(\"Renaming complete.\")\n"
   ]
  },
  {
   "cell_type": "code",
   "execution_count": 8,
   "metadata": {},
   "outputs": [],
   "source": [
    "from pathlib import Path\n",
    "\n",
    "# Path to the folder containing the images\n",
    "folder_path = Path('sample_test/')\n",
    "\n",
    "# Initialize a counter\n",
    "counter = 1\n",
    "\n",
    "# Loop over all .jpg files in the directory, sorted by name\n",
    "for file_path in sorted(folder_path.glob(\"*.jpg\")):\n",
    "    # Generate the new filename with leading zeros (e.g., testimage-01.jpg)\n",
    "    new_filename = f\"testimage-{counter:02d}.jpg\"\n",
    "    \n",
    "    # Construct the new file path\n",
    "    new_file_path = folder_path / new_filename\n",
    "    \n",
    "    # Rename the file\n",
    "    file_path.rename(new_file_path)\n",
    "    \n",
    "    # Increment the counter\n",
    "    counter += 1\n",
    "    print(\"Renaming complete.\")\n"
   ]
  },
  {
   "cell_type": "code",
   "execution_count": 11,
   "metadata": {},
   "outputs": [],
   "source": [
    "filenames = [name for name in Path('sample_test/').glob(\"*.jpg\")]"
   ]
  },
  {
   "cell_type": "code",
   "execution_count": 13,
   "metadata": {},
   "outputs": [
    {
     "data": {
      "text/plain": [
       "[]"
      ]
     },
     "execution_count": 13,
     "metadata": {},
     "output_type": "execute_result"
    }
   ],
   "source": [
    "filenames"
   ]
  },
  {
   "cell_type": "code",
   "execution_count": 15,
   "metadata": {},
   "outputs": [
    {
     "name": "stdout",
     "output_type": "stream",
     "text": [
      "Renaming complete.\n"
     ]
    }
   ],
   "source": [
    "from pathlib import Path\n",
    "\n",
    "# Path to the folder containing the images\n",
    "folder_path = Path('/sample_test/')\n",
    "\n",
    "# Initialize a counter\n",
    "counter = 1\n",
    "\n",
    "# Loop over all .jpg files in the directory, sorted by name\n",
    "for file_path in sorted(Path('/sample_test/').glob(\"*.jpg\")):\n",
    "    # Generate the new filename with leading zeros (e.g., testimage-01.jpg)\n",
    "    new_filename = f\"testimage-{counter:02d}.jpg\"\n",
    "    \n",
    "    # Construct the new file path\n",
    "    new_file_path = folder_path / new_filename\n",
    "    \n",
    "    # Rename the file\n",
    "    file_path.rename(new_file_path)\n",
    "    \n",
    "    # Increment the counter\n",
    "    counter += 1\n",
    "\n",
    "print(\"Renaming complete.\")\n"
   ]
  },
  {
   "cell_type": "code",
   "execution_count": 17,
   "metadata": {},
   "outputs": [
    {
     "name": "stdout",
     "output_type": "stream",
     "text": [
      "The folder path '/sample_test/' does not exist.\n"
     ]
    }
   ],
   "source": [
    "import shutil\n",
    "import glob\n",
    "import os\n",
    "\n",
    "# Path to the folder containing the images\n",
    "folder_path = '/sample_test/'\n",
    "\n",
    "# Initialize a counter\n",
    "counter = 1\n",
    "\n",
    "# Ensure the folder exists\n",
    "if not os.path.isdir(folder_path):\n",
    "    print(f\"The folder path '{folder_path}' does not exist.\")\n",
    "else:\n",
    "    # Change directory to the target folder\n",
    "    os.chdir(folder_path)\n",
    "    \n",
    "    # Loop over all .jpg files in the directory, sorted by name\n",
    "    for file_path in sorted(glob.glob(\"*.jpg\")):\n",
    "        # Generate the new filename with leading zeros (e.g., testimage-01.jpg)\n",
    "        new_filename = f\"testimage-{counter:02d}.jpg\"\n",
    "        \n",
    "        # Print the paths for debugging\n",
    "        print(f\"Renaming: {file_path} to {new_filename}\")\n",
    "        \n",
    "        # Rename the file using shutil\n",
    "        shutil.move(file_path, new_filename)\n",
    "        \n",
    "        # Increment the counter\n",
    "        counter += 1\n",
    "\n",
    "    print(\"Renaming complete.\")\n"
   ]
  },
  {
   "cell_type": "code",
   "execution_count": 18,
   "metadata": {},
   "outputs": [
    {
     "data": {
      "text/plain": [
       "'/sample_test/50b3cc52578601b3f6109c9b476c6a02.jpg'"
      ]
     },
     "execution_count": 18,
     "metadata": {},
     "output_type": "execute_result"
    }
   ],
   "source": [
    "filenames = '/sample_test/50b3cc52578601b3f6109c9b476c6a02.jpg'\n",
    "filenames"
   ]
  },
  {
   "cell_type": "code",
   "execution_count": 21,
   "metadata": {},
   "outputs": [
    {
     "name": "stdout",
     "output_type": "stream",
     "text": [
      "Error: The folder path '/sample_test/49c11b9ceb257c6d99cf33789c2828ee.jpg' does not exist.\n"
     ]
    }
   ],
   "source": [
    "import glob\n",
    "import shutil\n",
    "import os\n",
    "\n",
    "# Path to the folder containing the images\n",
    "folder_path = '/sample_test/49c11b9ceb257c6d99cf33789c2828ee.jpg'\n",
    "\n",
    "# Ensure the folder exists\n",
    "if not os.path.isdir(folder_path):\n",
    "    print(f\"Error: The folder path '{folder_path}' does not exist.\")\n",
    "else:\n",
    "    # Change directory to the target folder\n",
    "    os.chdir(folder_path)\n",
    "    \n",
    "    # Initialize a counter\n",
    "    counter = 1\n",
    "    \n",
    "    # Loop over all .jpg files in the directory, sorted by name\n",
    "    jpg_files = sorted(glob.glob(\"*.jpg\"))\n",
    "    \n",
    "    if not jpg_files:\n",
    "        print(\"No .jpg files found in the directory.\")\n",
    "    else:\n",
    "        for file_path in jpg_files:\n",
    "            # Generate the new filename with leading zeros (e.g., testimage-01.jpg)\n",
    "            new_filename = f\"testimage-{counter:02d}.jpg\"\n",
    "            \n",
    "            # Print the paths for debugging\n",
    "            print(f\"Renaming: {file_path} to {new_filename}\")\n",
    "            \n",
    "            try:\n",
    "                # Rename the file using shutil\n",
    "                shutil.move(file_path, new_filename)\n",
    "                \n",
    "                # Increment the counter\n",
    "                counter += 1\n",
    "            except Exception as e:\n",
    "                print(f\"Error renaming file {file_path}: {e}\")\n",
    "\n",
    "    print(\"Renaming complete.\")\n"
   ]
  },
  {
   "cell_type": "code",
   "execution_count": null,
   "metadata": {},
   "outputs": [],
   "source": []
  }
 ],
 "metadata": {
  "kernelspec": {
   "display_name": "Python 3",
   "language": "python",
   "name": "python3"
  },
  "language_info": {
   "codemirror_mode": {
    "name": "ipython",
    "version": 3
   },
   "file_extension": ".py",
   "mimetype": "text/x-python",
   "name": "python",
   "nbconvert_exporter": "python",
   "pygments_lexer": "ipython3",
   "version": "3.11.4"
  }
 },
 "nbformat": 4,
 "nbformat_minor": 2
}
